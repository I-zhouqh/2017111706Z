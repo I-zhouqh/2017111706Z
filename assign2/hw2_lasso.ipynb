{
 "cells": [
  {
   "cell_type": "code",
   "execution_count": 1,
   "metadata": {},
   "outputs": [],
   "source": [
    "import pandas as pd\n",
    "import numpy as np\n",
    "from sklearn import preprocessing\n",
    "from sklearn.datasets import load_boston\n",
    "import matplotlib.pyplot as plt"
   ]
  },
  {
   "cell_type": "markdown",
   "metadata": {},
   "source": [
    "根据算法 定义类"
   ]
  },
  {
   "cell_type": "code",
   "execution_count": 2,
   "metadata": {},
   "outputs": [],
   "source": [
    "class My_lasso():\n",
    "\n",
    "    def __init__(self):\n",
    "        pass\n",
    "\n",
    "    def train(self,X,Y,llambda,eps,mu,maxiter=10000):\n",
    "        n = X.shape[0]\n",
    "        p = X.shape[1]\n",
    "        beta = np.zeros(p)\n",
    "        # f_Beta=np.linalg.norm(Y-np.matmul(X,beta),ord=2)**2\n",
    "        for i in range(maxiter):\n",
    "            delta_f_beta = 2 * np.matmul(X.T, np.matmul(X, beta) - Y)\n",
    "            beta_qta = beta - mu * delta_f_beta\n",
    "            temp = 1 - llambda * mu / np.abs(beta_qta)\n",
    "            beta_new = np.where(temp > 0, temp, 0) * beta_qta\n",
    "            # print(beta)\n",
    "            # print(beta_new)\n",
    "            diff = np.linalg.norm(beta_new - beta, ord=1)\n",
    "            #print(diff)\n",
    "            if diff < eps:\n",
    "                beta = beta_new\n",
    "                break\n",
    "            else:\n",
    "                beta = beta_new\n",
    "        self.beta=beta\n",
    "\n",
    "    def predict(self,X):\n",
    "        return X.dot(self.beta)\n",
    "    \n",
    "    def get_params(self):\n",
    "        return self.beta\n",
    "\n",
    "    "
   ]
  },
  {
   "cell_type": "markdown",
   "metadata": {},
   "source": [
    "```temp = 1 - llambda * mu / np.abs(beta_qta)```\n",
    "\n",
    "<font color=red size=4>这里可能会出现$\\beta$为零出现在分母中的情况，推荐使用$$\\beta^{t+1} = \\left(|\\tilde{\\beta}^{t}|-\\lambda \\mu \\right)_{+} sign(\\tilde{\\beta}^{t})$$</font>"
   ]
  },
  {
   "cell_type": "markdown",
   "metadata": {},
   "source": [
    "读取数据"
   ]
  },
  {
   "cell_type": "code",
   "execution_count": 4,
   "metadata": {},
   "outputs": [],
   "source": [
    "X,Y = load_boston(return_X_y = True)\n",
    "scaler = preprocessing.StandardScaler(with_mean=False,with_std=True).fit(X)\n",
    "X=scaler.transform(X)\n",
    "Y=Y/np.std(Y)"
   ]
  },
  {
   "cell_type": "markdown",
   "metadata": {},
   "source": [
    "交叉验证寻找最优参数"
   ]
  },
  {
   "cell_type": "code",
   "execution_count": 5,
   "metadata": {
    "collapsed": true
   },
   "outputs": [
    {
     "name": "stdout",
     "output_type": "stream",
     "text": [
      "{0.001: 0.5955772145497571, 0.0012589254117941675: 0.5955768284079261, 0.001584893192461114: 0.595576297660854, 0.001995262314968879: 0.5955756827449842, 0.0025118864315095794: 0.5955750069013551, 0.0031622776601683794: 0.595573990201111, 0.003981071705534973: 0.5955727656089003, 0.005011872336272725: 0.5955712777797172, 0.00630957344480193: 0.5955692941737525, 0.007943282347242814: 0.5955669046443702, 0.01: 0.5955638424850148, 0.012589254117941675: 0.5955600853176395, 0.01584893192461114: 0.5955552280709252, 0.0199526231496888: 0.5955491714265975, 0.025118864315095808: 0.5955415899190011, 0.03162277660168379: 0.5955321302638908, 0.039810717055349734: 0.59552117120007, 0.05011872336272725: 0.5955073908990224, 0.06309573444801933: 0.5954900519711079, 0.07943282347242818: 0.5954681772538624, 0.1: 0.5954407269591931, 0.12589254117941676: 0.5954063492769869, 0.15848931924611143: 0.5953630989319534, 0.19952623149688808: 0.59530913665368, 0.25118864315095824: 0.5952416840531178, 0.31622776601683794: 0.5951578929646641, 0.3981071705534973: 0.5950538553056136, 0.5011872336272725: 0.5949237202823544, 0.6309573444801936: 0.5947621822195249, 0.7943282347242822: 0.5945652092197395, 1.0: 0.5943275505022159, 1.2589254117941675: 0.5940474120506083, 1.584893192461114: 0.5937471541465645, 1.9952623149688808: 0.5934433947266824, 2.5118864315095824: 0.5931682878191638, 3.1622776601683795: 0.5929341592924314, 3.981071705534973: 0.5927967634177235, 5.011872336272725: 0.5928356569818249, 6.309573444801936: 0.5932174386033788, 7.943282347242821: 0.5937836765868874, 10.0: 0.5947777480750821, 12.589254117941687: 0.5965084350585849, 15.848931924611142: 0.5993034479535442, 19.952623149688787: 0.600367143844424, 25.11886431509582: 0.6023353730717873, 31.622776601683793: 0.6060187269224585, 39.81071705534978: 0.6104047118474685, 50.11872336272725: 0.6161426563795053, 63.09573444801943: 0.6226732015867577, 79.43282347242821: 0.6336442623540731, 100.0: 0.6429010836545942, 125.89254117941688: 0.6558270515780805, 158.48931924611142: 0.6725323083557876, 199.5262314968883: 0.6946647899262768, 251.18864315095823: 0.7258411221649546, 316.22776601683796: 0.7744052318133002, 398.1071705534977: 0.8490486344414393, 501.18723362727246: 0.8761147114369887, 630.9573444801943: 0.8777754713034304, 794.3282347242822: 0.8802615466007607, 1000.0: 0.884029421371084}\n"
     ]
    }
   ],
   "source": [
    "num_folds = 5\n",
    "lambda_choices = 10**(-3+0.1*np.linspace(0,60,num=61))\n",
    "\n",
    "X_train_folds = np.array_split(X, num_folds, axis=0)\n",
    "y_train_folds = np.array_split(Y, num_folds, axis=0)\n",
    "\n",
    "#lambda_to_mse = dict.fromkeys(lambda_choices, [])\n",
    "lambda_to_mse={}\n",
    "\n",
    "for lambda_choice in lambda_choices:\n",
    "\n",
    "    mse_list=[]\n",
    "    for fold in range(num_folds):\n",
    "\n",
    "        Xtrain = np.concatenate(X_train_folds[:fold] + X_train_folds[fold + 1:])\n",
    "        ytrain = np.concatenate(y_train_folds[:fold] + y_train_folds[fold + 1:])\n",
    "        Xtest = X_train_folds[fold]\n",
    "        ytest = y_train_folds[fold]\n",
    "\n",
    "        model=My_lasso()\n",
    "        model.train(Xtrain,ytrain,llambda=lambda_choice,eps=1e-5,mu=4e-6)\n",
    "        yhat=model.predict(Xtest)\n",
    "        RMSE=np.sqrt(np.linalg.norm(yhat-ytest,ord=2)**2/len(Xtest))\n",
    "        mse_list.append(RMSE)\n",
    "    lambda_to_mse[lambda_choice]=np.mean(mse_list)\n",
    "\n",
    "print(lambda_to_mse)"
   ]
  },
  {
   "cell_type": "code",
   "execution_count": 6,
   "metadata": {},
   "outputs": [
    {
     "name": "stdout",
     "output_type": "stream",
     "text": [
      "lam = 0.001000, MSE = 0.595577\n",
      "lam = 0.001259, MSE = 0.595577\n",
      "lam = 0.001585, MSE = 0.595576\n",
      "lam = 0.001995, MSE = 0.595576\n",
      "lam = 0.002512, MSE = 0.595575\n",
      "lam = 0.003162, MSE = 0.595574\n",
      "lam = 0.003981, MSE = 0.595573\n",
      "lam = 0.005012, MSE = 0.595571\n",
      "lam = 0.006310, MSE = 0.595569\n",
      "lam = 0.007943, MSE = 0.595567\n",
      "lam = 0.010000, MSE = 0.595564\n",
      "lam = 0.012589, MSE = 0.595560\n",
      "lam = 0.015849, MSE = 0.595555\n",
      "lam = 0.019953, MSE = 0.595549\n",
      "lam = 0.025119, MSE = 0.595542\n",
      "lam = 0.031623, MSE = 0.595532\n",
      "lam = 0.039811, MSE = 0.595521\n",
      "lam = 0.050119, MSE = 0.595507\n",
      "lam = 0.063096, MSE = 0.595490\n",
      "lam = 0.079433, MSE = 0.595468\n",
      "lam = 0.100000, MSE = 0.595441\n",
      "lam = 0.125893, MSE = 0.595406\n",
      "lam = 0.158489, MSE = 0.595363\n",
      "lam = 0.199526, MSE = 0.595309\n",
      "lam = 0.251189, MSE = 0.595242\n",
      "lam = 0.316228, MSE = 0.595158\n",
      "lam = 0.398107, MSE = 0.595054\n",
      "lam = 0.501187, MSE = 0.594924\n",
      "lam = 0.630957, MSE = 0.594762\n",
      "lam = 0.794328, MSE = 0.594565\n",
      "lam = 1.000000, MSE = 0.594328\n",
      "lam = 1.258925, MSE = 0.594047\n",
      "lam = 1.584893, MSE = 0.593747\n",
      "lam = 1.995262, MSE = 0.593443\n",
      "lam = 2.511886, MSE = 0.593168\n",
      "lam = 3.162278, MSE = 0.592934\n",
      "lam = 3.981072, MSE = 0.592797\n",
      "lam = 5.011872, MSE = 0.592836\n",
      "lam = 6.309573, MSE = 0.593217\n",
      "lam = 7.943282, MSE = 0.593784\n",
      "lam = 10.000000, MSE = 0.594778\n",
      "lam = 12.589254, MSE = 0.596508\n",
      "lam = 15.848932, MSE = 0.599303\n",
      "lam = 19.952623, MSE = 0.600367\n",
      "lam = 25.118864, MSE = 0.602335\n",
      "lam = 31.622777, MSE = 0.606019\n",
      "lam = 39.810717, MSE = 0.610405\n",
      "lam = 50.118723, MSE = 0.616143\n",
      "lam = 63.095734, MSE = 0.622673\n",
      "lam = 79.432823, MSE = 0.633644\n",
      "lam = 100.000000, MSE = 0.642901\n",
      "lam = 125.892541, MSE = 0.655827\n",
      "lam = 158.489319, MSE = 0.672532\n",
      "lam = 199.526231, MSE = 0.694665\n",
      "lam = 251.188643, MSE = 0.725841\n",
      "lam = 316.227766, MSE = 0.774405\n",
      "lam = 398.107171, MSE = 0.849049\n",
      "lam = 501.187234, MSE = 0.876115\n",
      "lam = 630.957344, MSE = 0.877775\n",
      "lam = 794.328235, MSE = 0.880262\n",
      "lam = 1000.000000, MSE = 0.884029\n"
     ]
    }
   ],
   "source": [
    "for lam,mse in sorted(lambda_to_mse.items()):\n",
    "    #for mse in lambda_to_mse[lam]:\n",
    "    print('lam = %f, MSE = %f' % (lam, mse))"
   ]
  },
  {
   "cell_type": "markdown",
   "metadata": {},
   "source": [
    "找到最优的lambda"
   ]
  },
  {
   "cell_type": "code",
   "execution_count": 7,
   "metadata": {},
   "outputs": [
    {
     "data": {
      "image/png": "[encoded data removed]",
      "text/plain": [
       "<Figure size 432x288 with 1 Axes>"
      ]
     },
     "metadata": {
      "needs_background": "light"
     },
     "output_type": "display_data"
    },
    {
     "name": "stdout",
     "output_type": "stream",
     "text": [
      "The best lambda is 3.981072\n"
     ]
    }
   ],
   "source": [
    "for lam in sorted(lambda_to_mse):\n",
    "    plt.scatter(lam,lambda_to_mse[lam])\n",
    "plt.xlabel('lambda')\n",
    "plt.ylabel('MSE')\n",
    "plt.show()\n",
    "\n",
    "lam=list(lambda_to_mse.keys())\n",
    "mse=list(lambda_to_mse.values())\n",
    "best_lambda=lam[ np.argmin(mse) ]\n",
    "\n",
    "print(\"The best lambda is %f\"%best_lambda)"
   ]
  },
  {
   "cell_type": "markdown",
   "metadata": {},
   "source": [
    "以最优的lambda计算系数"
   ]
  },
  {
   "cell_type": "code",
   "execution_count": 10,
   "metadata": {},
   "outputs": [],
   "source": [
    "model = My_lasso()\n",
    "model.train(X,Y,llambda=best_lambda,eps=1e-5,mu=4e-6)\n",
    "# yhat = model.predict(X)\n",
    "# RMSE = np.sqrt(np.linalg.norm(yhat - Y, ord=2) ** 2 / len(X))\n",
    "final_beta=model.get_params()"
   ]
  },
  {
   "cell_type": "code",
   "execution_count": 11,
   "metadata": {},
   "outputs": [
    {
     "data": {
      "text/plain": [
       "array([-0.07536934,  0.10758255, -0.01210497,  0.07801817, -0.03257002,\n",
       "        0.44687669, -0.01391372, -0.20090654,  0.10179273, -0.11347201,\n",
       "       -0.09642793,  0.14015362, -0.33084993])"
      ]
     },
     "execution_count": 11,
     "metadata": {},
     "output_type": "execute_result"
    }
   ],
   "source": [
    "final_beta"
   ]
  },
  {
   "cell_type": "code",
   "execution_count": 12,
   "metadata": {},
   "outputs": [],
   "source": [
    "feature_name=['城市人均犯罪率',\n",
    "                                            '占地面积超过 25,000 平方英尺的住宅用地比例',\n",
    "                                            '每个城镇非零售业务的比例',\n",
    "                                            'Charles River 虚拟变量（如果是河道，则为 1; 否则为 0） ',\n",
    "                                            '一氧化氮浓度（每千万份） ',\n",
    "                                            '每间住宅的平均房间数',\n",
    "                                            '1940 年以前建造的自住单位比例 ',\n",
    "                                            '加权距离波士顿的五个就业中心',\n",
    "                                            '径向高速公路的可达性指数 ', \n",
    "                                            '每 10,000 美元的全额物业税率',\n",
    "                                            '城镇的学生与教师比例 ',\n",
    "                                            'B=1000(Bk −0.63)2 其中 Bk 是城镇黑人的比例 ',\n",
    "                                            '人口状况下降 ']"
   ]
  },
  {
   "cell_type": "code",
   "execution_count": 14,
   "metadata": {},
   "outputs": [
    {
     "name": "stdout",
     "output_type": "stream",
     "text": [
      "城市人均犯罪率 系数接近0\n",
      "每个城镇非零售业务的比例 系数接近0\n",
      "Charles River 虚拟变量（如果是河道，则为 1; 否则为 0）  系数接近0\n",
      "一氧化氮浓度（每千万份）  系数接近0\n",
      "1940 年以前建造的自住单位比例  系数接近0\n",
      "城镇的学生与教师比例  系数接近0\n"
     ]
    }
   ],
   "source": [
    "for i,coef in enumerate(final_beta):\n",
    "    if np.abs(coef)<0.1:\n",
    "        print(feature_name[i],\"系数接近0\")"
   ]
  },
  {
   "cell_type": "markdown",
   "metadata": {},
   "source": [
    "可以看到，以上所述的变量系数接近0。这些变量与房价关系不强。"
   ]
  }
 ],
 "metadata": {
  "kernelspec": {
   "display_name": "Python 3",
   "language": "python",
   "name": "python3"
  },
  "language_info": {
   "codemirror_mode": {
    "name": "ipython",
    "version": 3
   },
   "file_extension": ".py",
   "mimetype": "text/x-python",
   "name": "python",
   "nbconvert_exporter": "python",
   "pygments_lexer": "ipython3",
   "version": "3.6.12"
  }
 },
 "nbformat": 4,
 "nbformat_minor": 4
}
