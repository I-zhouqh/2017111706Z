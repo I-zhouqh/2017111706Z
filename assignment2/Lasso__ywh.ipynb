{
 "cells": [
  {
   "cell_type": "markdown",
   "metadata": {},
   "source": [
    "引入numpy并且加载数据，看看数据是什么样子"
   ]
  },
  {
   "cell_type": "code",
   "execution_count": null,
   "metadata": {},
   "outputs": [],
   "source": [
    "import numpy as np\n",
    "from sklearn.model_selection import train_test_split\n",
    "from sklearn.metrics import mean_squared_error,mean_absolute_error\n",
    "from sklearn.datasets import load_boston\n",
    "boston = load_boston()"
   ]
  },
  {
   "cell_type": "markdown",
   "metadata": {},
   "source": [
    "分别定义几个函数，用于编写迭代算法。  \n",
    "1. 示性函数 indicate function  \n",
    "2. 用最大元素替换向量值  \n",
    "3. 利用如下计算公式计算梯度：\n",
    "$$ f(x) = \\frac{1}{2}\\parallel X^\\mathrm{ T }\\beta-y \\parallel^2 $$  \n",
    "$$ grad = 2X\\mathrm(X^\\mathrm{ T }\\beta-y) $$  \n",
    "而后，则根据PDF的公式，编写迭代函数算lasso。  \n",
    "其实我发现PPT有点问题，PPT说调参调整的是lambda，但是发现调整的好像是算式里面的mu，因为算式里面的mu才是控制每一步DS长度的参数，而且如果把mu设置成1，调整lambda，算法会不收敛。"
   ]
  },
  {
   "cell_type": "code",
   "execution_count": null,
   "metadata": {},
   "outputs": [],
   "source": [
    "def sign(x):\n",
    "    for i in range(len(np.copy(x))):\n",
    "        if x[i,0] != 0:\n",
    "            res = x[i,0] / abs(x[i,0])\n",
    "        else:\n",
    "            res = 0;\n",
    "    return res\n",
    "\n",
    "def vec_max(MAX_VALUE, v):\n",
    "    for i in range(len(v)):\n",
    "        v[i] = max(MAX_VALUE, v[i,0])\n",
    "    return v\n",
    "\n",
    "def grf(A,x,y):\n",
    "    return A.T.dot(A.dot(x) - y)"
   ]
  },
  {
   "cell_type": "code",
   "execution_count": null,
   "metadata": {},
   "outputs": [],
   "source": [
    "def lasso_proximal(X,y,lambda_set,MAX_ITER=3000,epsilon = 1e-10):\n",
    "    n = X.shape[1]\n",
    "    beta = np.zeros((n,1))\n",
    "    mu = np.linspace(1,1,n).reshape(1,n)\n",
    "    y = y.reshape(len(y),1)\n",
    "    for i in range(MAX_ITER):\n",
    "        beta_k1 = beta - lambda_set*grf(X,beta,y)\n",
    "        beta_k1 = vec_max(0, abs(beta_k1)-mu.T * lambda_set) * sign(beta_k1)\n",
    "        print(sum(abs(beta_k1 - beta)))\n",
    "        if sum(abs(beta_k1 - beta)) <= epsilon:\n",
    "            beta = beta_k1\n",
    "            break\n",
    "        else:\n",
    "            beta = beta_k1\n",
    "    return beta"
   ]
  },
  {
   "cell_type": "markdown",
   "metadata": {},
   "source": [
    "定义函数标准化数据，划分训练集测试集，然后初步拟定超参数，跑一下算法，看一下MSE，对比下"
   ]
  },
  {
   "cell_type": "code",
   "execution_count": null,
   "metadata": {},
   "outputs": [],
   "source": [
    "def normalization_X(x):\n",
    "    return (x-x.mean(axis=0))/x.std(axis=0)\n",
    "\n",
    "def normalization_y(y): \n",
    "    return (y-y.mean)/y.std  "
   ]
  },
  {
   "cell_type": "code",
   "execution_count": null,
   "metadata": {},
   "outputs": [],
   "source": [
    "X = boston.data\n",
    "y = boston.target\n",
    "X_train,X_test,y_train,y_test = train_test_split(X,y,test_size=0.3,random_state=13)\n",
    "X_train_n = normalization_X(X_train)\n",
    "X_test_n = normalization_X(X_test)\n",
    "y_train_n = normalization_X(y_train)\n",
    "y_test_n = normalization_X(y_test)"
   ]
  },
  {
   "cell_type": "markdown",
   "metadata": {},
   "source": [
    "接下来自己编写交叉验证，来找到MSE最小的k，也就是学习率，最小用五折的平均MSE找到"
   ]
  },
  {
   "cell_type": "code",
   "execution_count": null,
   "metadata": {},
   "outputs": [],
   "source": [
    "num_folds = 5\n",
    "lambda_choices = [pow(10, -3-0.1*i) for i in range(6)]\n",
    "X_train_folds = []\n",
    "y_train_folds = []\n",
    "k_to_accuracies = {}\n",
    "\n",
    "X_train_folds = np.array_split(X_train_n, num_folds)\n",
    "y_train_folds = np.array_split(y_train_n, num_folds)\n",
    "\n",
    "for k in lambda_choices:\n",
    "    mse = []\n",
    "    print(\"现在的学习率是：\"+str(k))\n",
    "    for i in range(num_folds):\n",
    "        Xtr = np.concatenate(X_train_folds[:i] + X_train_folds[i+1:])\n",
    "        ytr = np.concatenate(y_train_folds[:i] + y_train_folds[i+1:])\n",
    "        Xcv = X_train_folds[i]\n",
    "        ycv = y_train_folds[i]\n",
    "        beta = lasso_proximal(Xtr,ytr,k,MAX_ITER=100000)\n",
    "        y_train_predict=Xcv.dot(beta)\n",
    "        mse_predict = mean_squared_error(ycv,y_train_predict)\n",
    "        mse.append(mse_predict)\n",
    "    k_to_accuracies[k] = mse\n",
    "\n",
    "for k in sorted(k_to_accuracies):\n",
    "    avg_mse = sum(k_to_accuracies[k][:])/num_folds\n",
    "    print('k='+str(k)+'   '+'average_mse='+str(avg_mse)+'\\n\\t')"
   ]
  },
  {
   "cell_type": "markdown",
   "metadata": {},
   "source": [
    "可以看到，当k=2.5118864315095823e-07   average_mse=0.3641587835977935达到最小。  \n",
    "最后直接用训练集按照找到的最优的学习率来训练一下，然后看看参数beta的情况。"
   ]
  },
  {
   "cell_type": "code",
   "execution_count": null,
   "metadata": {},
   "outputs": [],
   "source": [
    "beta_final = lasso_proximal(X_train_n,y_train_n,2.5118864315095823e-07,MAX_ITER=100000)\n",
    "y_train_predict = X_train_n.dot(beta_final)\n",
    "mse_final = mean_squared_error(y_train_n,y_train_predict)"
   ]
  },
  {
   "cell_type": "code",
   "execution_count": null,
   "metadata": {
    "scrolled": true
   },
   "outputs": [],
   "source": [
    "mse_final"
   ]
  },
  {
   "cell_type": "markdown",
   "metadata": {},
   "source": [
    "可以看到，最后的MSE大概是0.3534，那么接下来看一下训练出来的参数，哪些变量显著哪些不显著。"
   ]
  },
  {
   "cell_type": "code",
   "execution_count": null,
   "metadata": {
    "scrolled": true
   },
   "outputs": [],
   "source": [
    "boston['feature_names_Chinese'] = np.array(['城市人均犯罪率',\n",
    "                                            '占地面积超过 25,000 平方英尺的住宅用地比例',\n",
    "                                            '每个城镇非零售业务的比例',\n",
    "                                            'Charles River 虚拟变量（如果是河道，则为 1; 否则为 0） ',\n",
    "                                            '一氧化氮浓度（每千万份） ',\n",
    "                                            '每间住宅的平均房间数',\n",
    "                                            '1940 年以前建造的自住单位比例 ',\n",
    "                                            '加权距离波士顿的五个就业中心',\n",
    "                                            '径向高速公路的可达性指数 ', \n",
    "                                            '每 10,000 美元的全额物业税率',\n",
    "                                            '城镇的学生与教师比例 ',\n",
    "                                            'B=1000(Bk −0.63)2 其中 Bk 是城镇黑人的比例 ',\n",
    "                                            '人口状况下降 '])\n",
    "for i in range(len(beta_final)):\n",
    "    print(beta_final[i], boston['feature_names'][i], boston['feature_names_Chinese'][i])\n",
    "    if abs(beta_final[i]) <= 1e-5:\n",
    "        print('   ' + '此变量不显著')"
   ]
  },
  {
   "cell_type": "markdown",
   "metadata": {},
   "source": [
    "事实上，被lasso惩罚到0的系数可以认为是对回归帮助不大的系数，即对房价影响不显著。根据上述结果，我们可以看到：大住宅用地比例、有无河道、住宅房间数、1940年以前建造的自主单位比例、径向高速公路的可达性指数、美元的全额物业税率、城镇黑人的比例是不显著的，其余变量是显著的。这说明，这些变量与放假并没有很强的相关关系。  "
   ]
  }
 ],
 "metadata": {
  "anaconda-cloud": {},
  "kernelspec": {
   "display_name": "Python 3",
   "language": "python",
   "name": "python3"
  },
  "language_info": {
   "codemirror_mode": {
    "name": "ipython",
    "version": 3
   },
   "file_extension": ".py",
   "mimetype": "text/x-python",
   "name": "python",
   "nbconvert_exporter": "python",
   "pygments_lexer": "ipython3",
   "version": "3.7.2"
  }
 },
 "nbformat": 4,
 "nbformat_minor": 4
}
