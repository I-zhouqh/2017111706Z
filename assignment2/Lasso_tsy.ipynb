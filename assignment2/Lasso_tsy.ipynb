{
 "cells": [
  {
   "cell_type": "code",
   "execution_count": 1,
   "metadata": {
    "id": "CGGfYqQ2Hntt"
   },
   "outputs": [],
   "source": [
    "import numpy as np\n",
    "import matplotlib.pyplot as plt\n",
    "import pandas as pd\n",
    "from sklearn.datasets import load_boston\n"
   ]
  },
  {
   "cell_type": "code",
   "execution_count": null,
   "metadata": {
    "colab": {
     "base_uri": "https://localhost:8080/",
     "height": 203
    },
    "executionInfo": {
     "elapsed": 2935,
     "status": "ok",
     "timestamp": 1601640716356,
     "user": {
      "displayName": "shuyu tian",
      "photoUrl": "",
      "userId": "07275374264693325781"
     },
     "user_tz": -480
    },
    "id": "_tKVZeuwIBEQ",
    "outputId": "f9f384f6-13f6-443c-ee49-d7afddc8ff30"
   },
   "outputs": [
    {
     "data": {
      "text/html": [
       "<div>\n",
       "<style scoped>\n",
       "    .dataframe tbody tr th:only-of-type {\n",
       "        vertical-align: middle;\n",
       "    }\n",
       "\n",
       "    .dataframe tbody tr th {\n",
       "        vertical-align: top;\n",
       "    }\n",
       "\n",
       "    .dataframe thead th {\n",
       "        text-align: right;\n",
       "    }\n",
       "</style>\n",
       "<table border=\"1\" class=\"dataframe\">\n",
       "  <thead>\n",
       "    <tr style=\"text-align: right;\">\n",
       "      <th></th>\n",
       "      <th>CRIM</th>\n",
       "      <th>ZN</th>\n",
       "      <th>INDUS</th>\n",
       "      <th>CHAS</th>\n",
       "      <th>NOX</th>\n",
       "      <th>RM</th>\n",
       "      <th>AGE</th>\n",
       "      <th>DIS</th>\n",
       "      <th>RAD</th>\n",
       "      <th>TAX</th>\n",
       "      <th>PTRATIO</th>\n",
       "      <th>B</th>\n",
       "      <th>LSTAT</th>\n",
       "      <th>price</th>\n",
       "    </tr>\n",
       "  </thead>\n",
       "  <tbody>\n",
       "    <tr>\n",
       "      <th>0</th>\n",
       "      <td>0.00632</td>\n",
       "      <td>18.0</td>\n",
       "      <td>2.31</td>\n",
       "      <td>0.0</td>\n",
       "      <td>0.538</td>\n",
       "      <td>6.575</td>\n",
       "      <td>65.2</td>\n",
       "      <td>4.0900</td>\n",
       "      <td>1.0</td>\n",
       "      <td>296.0</td>\n",
       "      <td>15.3</td>\n",
       "      <td>396.90</td>\n",
       "      <td>4.98</td>\n",
       "      <td>24.0</td>\n",
       "    </tr>\n",
       "    <tr>\n",
       "      <th>1</th>\n",
       "      <td>0.02731</td>\n",
       "      <td>0.0</td>\n",
       "      <td>7.07</td>\n",
       "      <td>0.0</td>\n",
       "      <td>0.469</td>\n",
       "      <td>6.421</td>\n",
       "      <td>78.9</td>\n",
       "      <td>4.9671</td>\n",
       "      <td>2.0</td>\n",
       "      <td>242.0</td>\n",
       "      <td>17.8</td>\n",
       "      <td>396.90</td>\n",
       "      <td>9.14</td>\n",
       "      <td>21.6</td>\n",
       "    </tr>\n",
       "    <tr>\n",
       "      <th>2</th>\n",
       "      <td>0.02729</td>\n",
       "      <td>0.0</td>\n",
       "      <td>7.07</td>\n",
       "      <td>0.0</td>\n",
       "      <td>0.469</td>\n",
       "      <td>7.185</td>\n",
       "      <td>61.1</td>\n",
       "      <td>4.9671</td>\n",
       "      <td>2.0</td>\n",
       "      <td>242.0</td>\n",
       "      <td>17.8</td>\n",
       "      <td>392.83</td>\n",
       "      <td>4.03</td>\n",
       "      <td>34.7</td>\n",
       "    </tr>\n",
       "    <tr>\n",
       "      <th>3</th>\n",
       "      <td>0.03237</td>\n",
       "      <td>0.0</td>\n",
       "      <td>2.18</td>\n",
       "      <td>0.0</td>\n",
       "      <td>0.458</td>\n",
       "      <td>6.998</td>\n",
       "      <td>45.8</td>\n",
       "      <td>6.0622</td>\n",
       "      <td>3.0</td>\n",
       "      <td>222.0</td>\n",
       "      <td>18.7</td>\n",
       "      <td>394.63</td>\n",
       "      <td>2.94</td>\n",
       "      <td>33.4</td>\n",
       "    </tr>\n",
       "    <tr>\n",
       "      <th>4</th>\n",
       "      <td>0.06905</td>\n",
       "      <td>0.0</td>\n",
       "      <td>2.18</td>\n",
       "      <td>0.0</td>\n",
       "      <td>0.458</td>\n",
       "      <td>7.147</td>\n",
       "      <td>54.2</td>\n",
       "      <td>6.0622</td>\n",
       "      <td>3.0</td>\n",
       "      <td>222.0</td>\n",
       "      <td>18.7</td>\n",
       "      <td>396.90</td>\n",
       "      <td>5.33</td>\n",
       "      <td>36.2</td>\n",
       "    </tr>\n",
       "  </tbody>\n",
       "</table>\n",
       "</div>"
      ],
      "text/plain": [
       "      CRIM    ZN  INDUS  CHAS    NOX  ...    TAX  PTRATIO       B  LSTAT  price\n",
       "0  0.00632  18.0   2.31   0.0  0.538  ...  296.0     15.3  396.90   4.98   24.0\n",
       "1  0.02731   0.0   7.07   0.0  0.469  ...  242.0     17.8  396.90   9.14   21.6\n",
       "2  0.02729   0.0   7.07   0.0  0.469  ...  242.0     17.8  392.83   4.03   34.7\n",
       "3  0.03237   0.0   2.18   0.0  0.458  ...  222.0     18.7  394.63   2.94   33.4\n",
       "4  0.06905   0.0   2.18   0.0  0.458  ...  222.0     18.7  396.90   5.33   36.2\n",
       "\n",
       "[5 rows x 14 columns]"
      ]
     },
     "execution_count": 3,
     "metadata": {
      "tags": []
     },
     "output_type": "execute_result"
    }
   ],
   "source": [
    "data = load_boston()\n",
    "data_pd = pd.DataFrame(data.data, columns=data.feature_names)\n",
    "data_pd['price'] = data.target\n",
    "data_pd.head()"
   ]
  },
  {
   "cell_type": "code",
   "execution_count": null,
   "metadata": {
    "id": "hne0TJuSPEwr"
   },
   "outputs": [],
   "source": [
    "#标准化X, y\n",
    "y = np.array(data_pd['price'])\n",
    "y = (y - np.mean(y)) / np.sqrt(np.mean((y-np.mean(y))**2))\n",
    "y = y.reshape(506,1)\n",
    "d = data_pd\n",
    "d = np.array(d.drop(['price'], axis=1))\n",
    "dt = d.T\n",
    "X = ((dt - np.mean(dt, axis=1).reshape(13,1)) / np.sqrt(np.mean((dt - np.mean(dt, axis=1).reshape(13,1))**2, axis=1)).reshape(13,1)).T\n",
    "\n"
   ]
  },
  {
   "cell_type": "code",
   "execution_count": null,
   "metadata": {
    "id": "sBtKXxWA-9ti"
   },
   "outputs": [],
   "source": [
    "#proximal算法\n",
    "\n",
    "def proximal(A, b, lamda, miu, epsilon):   #lamda:正则项 miu:步长\n",
    "  x_dim = A.shape[1]\n",
    "  beta_old = np.zeros(x_dim).reshape(x_dim, 1)\n",
    "  beta_temp = beta_old - np.dot(miu * A.T, np.dot(A, beta_old) - b)\n",
    "  beta_new = (np.maximum(1 - lamda*miu/abs(beta_temp), 0) * beta_temp)\n",
    "  k = 1\n",
    "  while np.sum(abs(beta_new - beta_old))/np.sum(abs(beta_old)) >= epsilon:\n",
    "    beta_old = beta_new\n",
    "    beta_temp = beta_old - np.dot(miu * A.T, np.dot(A, beta_old) - b)\n",
    "    beta_new = (np.maximum(1 - lamda*miu/abs(beta_temp), 0) * beta_temp)\n",
    "    k += 1\n",
    "    #迭代次数超过1百万次时退出\n",
    "    if (k >= 1e6):\n",
    "      break \n",
    "  return beta_new\n",
    "\n",
    "def proximal2(A, b, lamda, miu, epsilon):   #lamda:正则项 miu:步长\n",
    "  plot_record = []\n",
    "  x_dim = A.shape[1]\n",
    "  beta_old = np.zeros(x_dim).reshape(x_dim, 1)\n",
    "  plot_record.append(beta_old)\n",
    "  beta_temp = beta_old - np.dot(miu * A.T, np.dot(A, beta_old) - b)\n",
    "  beta_new = (np.maximum(1 - lamda*miu/abs(beta_temp), 0) * beta_temp)\n",
    "  plot_record.append(beta_new)\n",
    "  k = 1\n",
    "  while np.sum(abs(beta_new - beta_old))/np.sum(abs(beta_old)) >= epsilon:\n",
    "    beta_old = beta_new\n",
    "    beta_temp = beta_old - np.dot(miu * A.T, np.dot(A, beta_old) - b)\n",
    "    beta_new = (np.maximum(1 - lamda*miu/abs(beta_temp), 0) * beta_temp)\n",
    "    plot_record.append(beta_new)\n",
    "    k += 1\n",
    "    #迭代次数超过1百万次时退出\n",
    "    if (k >= 1e6):\n",
    "      break \n",
    "  return beta_new, plot_record\n"
   ]
  },
  {
   "cell_type": "code",
   "execution_count": null,
   "metadata": {
    "colab": {
     "base_uri": "https://localhost:8080/",
     "height": 1000
    },
    "executionInfo": {
     "elapsed": 906854,
     "status": "ok",
     "timestamp": 1601642403107,
     "user": {
      "displayName": "shuyu tian",
      "photoUrl": "",
      "userId": "07275374264693325781"
     },
     "user_tz": -480
    },
    "id": "Aao5BlWi84xe",
    "outputId": "1490250c-d219-445d-dc41-bd3b3032487e"
   },
   "outputs": [
    {
     "name": "stderr",
     "output_type": "stream",
     "text": [
      "/usr/local/lib/python3.6/dist-packages/ipykernel_launcher.py:9: RuntimeWarning: divide by zero encountered in double_scalars\n",
      "  if __name__ == '__main__':\n",
      "/usr/local/lib/python3.6/dist-packages/ipykernel_launcher.py:9: RuntimeWarning: invalid value encountered in double_scalars\n",
      "  if __name__ == '__main__':\n"
     ]
    },
    {
     "name": "stdout",
     "output_type": "stream",
     "text": [
      "lambda = 0.001000, Rsqure = 0.435284\n",
      "lambda = 0.001259, Rsqure = 0.435286\n",
      "lambda = 0.001585, Rsqure = 0.435288\n",
      "lambda = 0.001995, Rsqure = 0.435291\n",
      "lambda = 0.002512, Rsqure = 0.435295\n",
      "lambda = 0.003162, Rsqure = 0.435300\n",
      "lambda = 0.003981, Rsqure = 0.435306\n",
      "lambda = 0.005012, Rsqure = 0.435313\n",
      "lambda = 0.006310, Rsqure = 0.435322\n",
      "lambda = 0.007943, Rsqure = 0.435334\n",
      "lambda = 0.010000, Rsqure = 0.435349\n",
      "lambda = 0.012589, Rsqure = 0.435367\n",
      "lambda = 0.015849, Rsqure = 0.435391\n",
      "lambda = 0.019953, Rsqure = 0.435420\n",
      "lambda = 0.025119, Rsqure = 0.435457\n",
      "lambda = 0.031623, Rsqure = 0.435503\n",
      "lambda = 0.039811, Rsqure = 0.435561\n",
      "lambda = 0.050119, Rsqure = 0.435634\n",
      "lambda = 0.063096, Rsqure = 0.435726\n",
      "lambda = 0.079433, Rsqure = 0.435841\n",
      "lambda = 0.100000, Rsqure = 0.435984\n",
      "lambda = 0.125893, Rsqure = 0.436164\n",
      "lambda = 0.158489, Rsqure = 0.436387\n",
      "lambda = 0.199526, Rsqure = 0.436665\n",
      "lambda = 0.251189, Rsqure = 0.437008\n",
      "lambda = 0.316228, Rsqure = 0.437432\n",
      "lambda = 0.398107, Rsqure = 0.437951\n",
      "lambda = 0.501187, Rsqure = 0.438624\n",
      "lambda = 0.630957, Rsqure = 0.439566\n",
      "lambda = 0.794328, Rsqure = 0.440695\n",
      "lambda = 1.000000, Rsqure = 0.442027\n",
      "lambda = 1.258925, Rsqure = 0.443545\n",
      "lambda = 1.584893, Rsqure = 0.445183\n",
      "lambda = 1.995262, Rsqure = 0.446484\n",
      "lambda = 2.511886, Rsqure = 0.447500\n",
      "lambda = 3.162278, Rsqure = 0.448127\n",
      "lambda = 3.981072, Rsqure = 0.448707\n",
      "lambda = 5.011872, Rsqure = 0.449877\n",
      "lambda = 6.309573, Rsqure = 0.449104\n",
      "lambda = 7.943282, Rsqure = 0.447623\n",
      "lambda = 10.000000, Rsqure = 0.445074\n",
      "lambda = 12.589254, Rsqure = 0.436676\n",
      "lambda = 15.848932, Rsqure = 0.425346\n",
      "lambda = 19.952623, Rsqure = 0.419613\n",
      "lambda = 25.118864, Rsqure = 0.416903\n",
      "lambda = 31.622777, Rsqure = 0.411170\n",
      "lambda = 39.810717, Rsqure = 0.397760\n",
      "lambda = 50.118723, Rsqure = 0.377801\n",
      "lambda = 63.095734, Rsqure = 0.350315\n",
      "lambda = 79.432823, Rsqure = 0.307402\n",
      "lambda = 100.000000, Rsqure = 0.241866\n",
      "lambda = 125.892541, Rsqure = 0.171274\n",
      "lambda = 158.489319, Rsqure = 0.077618\n",
      "lambda = 199.526231, Rsqure = -0.067785\n",
      "lambda = 251.188643, Rsqure = -0.274981\n",
      "lambda = 316.227766, Rsqure = -0.442963\n",
      "lambda = 398.107171, Rsqure = -0.462894\n",
      "lambda = 501.187234, Rsqure = -0.462894\n",
      "lambda = 630.957344, Rsqure = -0.462894\n",
      "lambda = 794.328235, Rsqure = -0.462894\n",
      "lambda = 1000.000000, Rsqure = -0.462894\n"
     ]
    }
   ],
   "source": [
    "#交叉验证\n",
    "num_k = 5\n",
    "miu = 4e-6\n",
    "epsilon = 1e-10\n",
    "def get_kfold_data(data, k):\n",
    "  fold_data=[]\n",
    "  fold_size = data.shape[0] // k\n",
    "  for i in range(k):\n",
    "    if i != k-1:\n",
    "      f_start = i * fold_size\n",
    "      f_end = (i+1) * fold_size\n",
    "      fold_data.append(data[f_start:f_end])\n",
    "    else:\n",
    "      f_start = i * fold_size\n",
    "      fold_data.append(data[f_start:])\n",
    "  return fold_data\n",
    "\n",
    "X_folds = get_kfold_data(X,num_k)\n",
    "y_folds = get_kfold_data(y,num_k)\n",
    "\n",
    "lamda_to_rsqure={}\n",
    "l=np.linspace(0,60,61)\n",
    "lamda_choices = 10**(-3+0.1*l)\n",
    "\n",
    "for lamda in lamda_choices:\n",
    "  rsq=[]\n",
    "  for i in range(num_k):\n",
    "    X_train = np.concatenate([fold for j, fold in enumerate(X_folds) if j != i])\n",
    "    y_train = np.concatenate([fold for j, fold in enumerate(y_folds) if j != i])\n",
    "    X_val = X_folds[i]\n",
    "    y_val = y_folds[i]\n",
    "    beta_h = proximal(X_train, y_train, lamda, miu, epsilon)\n",
    "    y_pred = np.dot(X_val, beta_h)\n",
    "    rsq.append(1 - float(np.sum((y_pred - y_val)**2)/np.sum((y_val - np.mean(y_val))**2)))\n",
    "  lamda_to_rsqure[lamda] = np.mean(rsq)\n",
    "\n",
    "for lamda in sorted(lamda_to_rsqure):\n",
    "    print(\"lambda = %f, Rsqure = %f\"%(lamda, lamda_to_rsqure[lamda]))\n",
    "\n",
    "\n",
    "\n",
    "  \n"
   ]
  },
  {
   "cell_type": "code",
   "execution_count": null,
   "metadata": {
    "colab": {
     "base_uri": "https://localhost:8080/",
     "height": 263
    },
    "executionInfo": {
     "elapsed": 3685,
     "status": "ok",
     "timestamp": 1601645603675,
     "user": {
      "displayName": "shuyu tian",
      "photoUrl": "",
      "userId": "07275374264693325781"
     },
     "user_tz": -480
    },
    "id": "hldM6JLZkTys",
    "outputId": "ebfd269f-5846-4e88-ff78-9c1cb9127098"
   },
   "outputs": [
    {
     "name": "stderr",
     "output_type": "stream",
     "text": [
      "/usr/local/lib/python3.6/dist-packages/ipykernel_launcher.py:28: RuntimeWarning: divide by zero encountered in double_scalars\n"
     ]
    },
    {
     "data": {
      "text/plain": [
       "array([[-0.07178775],\n",
       "       [ 0.08063836],\n",
       "       [-0.        ],\n",
       "       [ 0.07188364],\n",
       "       [-0.17565605],\n",
       "       [ 0.30604116],\n",
       "       [-0.        ],\n",
       "       [-0.2706715 ],\n",
       "       [ 0.14414257],\n",
       "       [-0.10337248],\n",
       "       [-0.21047756],\n",
       "       [ 0.08378861],\n",
       "       [-0.40555378]])"
      ]
     },
     "execution_count": 26,
     "metadata": {
      "tags": []
     },
     "output_type": "execute_result"
    }
   ],
   "source": [
    "best_lamda = lamda_choices[np.array([i for _,i in lamda_to_rsqure.items()]).argmax()]\n",
    "# best_lamda 5.011872336272725\n",
    "beta_final, plot_beta = proximal2(X, y, best_lamda, miu, epsilon)\n",
    "beta_final"
   ]
  },
  {
   "cell_type": "code",
   "execution_count": null,
   "metadata": {
    "colab": {
     "base_uri": "https://localhost:8080/",
     "height": 35
    },
    "executionInfo": {
     "elapsed": 718,
     "status": "ok",
     "timestamp": 1601645613141,
     "user": {
      "displayName": "shuyu tian",
      "photoUrl": "",
      "userId": "07275374264693325781"
     },
     "user_tz": -480
    },
    "id": "tWSDHpQLbS6V",
    "outputId": "4173b4f5-5f80-4656-8baa-a3a3c1c3247f"
   },
   "outputs": [
    {
     "data": {
      "text/plain": [
       "0.7362233400724643"
      ]
     },
     "execution_count": 27,
     "metadata": {
      "tags": []
     },
     "output_type": "execute_result"
    }
   ],
   "source": [
    "predict_y = np.dot(X, beta_final)\n",
    "1 - float(np.sum((predict_y - y)**2)/np.sum((y - np.mean(y))**2))"
   ]
  },
  {
   "cell_type": "code",
   "execution_count": null,
   "metadata": {
    "colab": {
     "base_uri": "https://localhost:8080/",
     "height": 283
    },
    "executionInfo": {
     "elapsed": 5143,
     "status": "ok",
     "timestamp": 1601646214254,
     "user": {
      "displayName": "shuyu tian",
      "photoUrl": "",
      "userId": "07275374264693325781"
     },
     "user_tz": -480
    },
    "id": "G7NKA6ulbRWe",
    "outputId": "a0bc5614-785d-4401-dc45-59d5b6ac9634"
   },
   "outputs": [],
   "source": [
    "# len(plot_beta) 81336\n",
    "# plot_b = np.array(plot_beta).reshape(81336,13).T\n",
    "for i in range(len(plot_b)):\n",
    "   plt.plot(np.linspace(0,81336,81336), plot_b[i], label=data.feature_names[i])\n",
    "\n",
    "plt.legend()"
   ]
  }
 ],
 "metadata": {
  "colab": {
   "authorship_tag": "ABX9TyNbYyGA8VP5gtsdi5NWiMX8",
   "collapsed_sections": [],
   "name": "ML_task2",
   "provenance": []
  },
  "kernelspec": {
   "display_name": "Python 3",
   "language": "python",
   "name": "python3"
  },
  "language_info": {
   "codemirror_mode": {
    "name": "ipython",
    "version": 3
   },
   "file_extension": ".py",
   "mimetype": "text/x-python",
   "name": "python",
   "nbconvert_exporter": "python",
   "pygments_lexer": "ipython3",
   "version": "3.7.2"
  }
 },
 "nbformat": 4,
 "nbformat_minor": 4
}
